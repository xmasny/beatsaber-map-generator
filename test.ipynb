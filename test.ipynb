{
 "cells": [
  {
   "cell_type": "code",
   "execution_count": null,
   "metadata": {},
   "outputs": [],
   "source": [
    "import librosa\n",
    "import json\n",
    "import numpy as np\n",
    "import matplotlib.pyplot as plt\n",
    "import h5py\n",
    "\n",
    "audio_file_path = \"31132 (CYBER - Joetastic & Tpenny68)\\Cyber.egg\"\n",
    "y, sr = librosa.load(audio_file_path)\n",
    "n_fft = 2048\n",
    "hop_length = 512\n",
    "n_mels = 128\n",
    "mel_spectrogram = librosa.feature.melspectrogram(y=y, sr=sr, n_fft=n_fft, hop_length=hop_length, n_mels=n_mels)\n",
    "mel_spectrogram_db = librosa.amplitude_to_db(mel_spectrogram, ref=np.max)"
   ]
  },
  {
   "cell_type": "code",
   "execution_count": null,
   "metadata": {},
   "outputs": [],
   "source": [
    "fig, ax = plt.subplots(figsize=(15,7.5))\n",
    "img = librosa.display.specshow(mel_spectrogram_db, sr=sr)\n",
    "plt.savefig(f\"{audio_file_path}.png\", dpi=300, bbox_inches='tight', pad_inches=0)"
   ]
  },
  {
   "cell_type": "code",
   "execution_count": null,
   "metadata": {},
   "outputs": [],
   "source": [
    "mel_spectrogram_list = mel_spectrogram_db.tolist()\n",
    "mel_spectrogram_json = json.dumps(mel_spectrogram_list)"
   ]
  },
  {
   "cell_type": "code",
   "execution_count": null,
   "metadata": {},
   "outputs": [],
   "source": [
    "mel_spectrogram_json"
   ]
  },
  {
   "cell_type": "code",
   "execution_count": null,
   "metadata": {},
   "outputs": [],
   "source": [
    "with open(\"mel_spectrogram.json\", \"w\") as f:\n",
    "    json.dump(mel_spectrogram_list, f)"
   ]
  },
  {
   "cell_type": "code",
   "execution_count": null,
   "metadata": {},
   "outputs": [],
   "source": [
    "np.save(f\"{audio_file_path}.npy\", mel_spectrogram_db)"
   ]
  },
  {
   "cell_type": "code",
   "execution_count": null,
   "metadata": {},
   "outputs": [],
   "source": [
    "h5py.File(f\"{audio_file_path}.h5\", \"w\")"
   ]
  }
 ],
 "metadata": {
  "kernelspec": {
   "display_name": "Python 3",
   "language": "python",
   "name": "python3"
  },
  "language_info": {
   "codemirror_mode": {
    "name": "ipython",
    "version": 3
   },
   "file_extension": ".py",
   "mimetype": "text/x-python",
   "name": "python",
   "nbconvert_exporter": "python",
   "pygments_lexer": "ipython3",
   "version": "3.10.11"
  },
  "orig_nbformat": 4,
  "vscode": {
   "interpreter": {
    "hash": "795fe145187f71fb189755fa9d238771967063c5434f29956d7bbff1f0d775b5"
   }
  }
 },
 "nbformat": 4,
 "nbformat_minor": 2
}
